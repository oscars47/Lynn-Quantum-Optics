{
 "cells": [
  {
   "cell_type": "markdown",
   "metadata": {},
   "source": [
    "# File to test specific implementations of code"
   ]
  },
  {
   "cell_type": "markdown",
   "metadata": {},
   "source": [
    "things to test:\n",
    "1. symbolic manipulation with sympy\n",
    "2. complex conjugate of variables?\n",
    "3. vectors/matrice operations\n",
    "4. inner product"
   ]
  },
  {
   "cell_type": "code",
   "execution_count": 1,
   "metadata": {},
   "outputs": [],
   "source": [
    "import numpy as np"
   ]
  },
  {
   "cell_type": "markdown",
   "metadata": {},
   "source": [
    "1. system of nonlinear equations"
   ]
  },
  {
   "cell_type": "code",
   "execution_count": 4,
   "metadata": {},
   "outputs": [],
   "source": [
    "from sympy import sqrt\n",
    "from sympy.solvers import solve\n",
    "from sympy import Symbol"
   ]
  },
  {
   "cell_type": "code",
   "execution_count": 2,
   "metadata": {},
   "outputs": [
    {
     "data": {
      "text/plain": [
       "[{x: 0.231049060186648, y: 11.4720463377229}]"
      ]
     },
     "execution_count": 2,
     "metadata": {},
     "output_type": "execute_result"
    }
   ],
   "source": [
    "# defining symbols\n",
    "x = Symbol('x')\n",
    "y = Symbol('y')\n",
    "z=Symbol('z')\n",
    "a=Symbol('a')\n",
    "b=Symbol('b')\n",
    "# c\n",
    "solve((np.e**(3*x)-2, y**(sqrt(x))-3-x), dict=True) # using pi in exponent makes it not complete\n",
    "# solve((x-y-1, y-3), dict=True)"
   ]
  },
  {
   "cell_type": "code",
   "execution_count": 3,
   "metadata": {},
   "outputs": [
    {
     "data": {
      "text/plain": [
       "[{x: -I}, {x: I}]"
      ]
     },
     "execution_count": 3,
     "metadata": {},
     "output_type": "execute_result"
    }
   ],
   "source": [
    "# imaginary numbers denoted by capital I\n",
    "solve(x**2+1, dict=True)"
   ]
  },
  {
   "cell_type": "markdown",
   "metadata": {},
   "source": [
    "2. complex conjugate"
   ]
  },
  {
   "cell_type": "code",
   "execution_count": 7,
   "metadata": {},
   "outputs": [
    {
     "data": {
      "text/latex": [
       "$\\displaystyle x \\overline{x} + y$"
      ],
      "text/plain": [
       "x*conjugate(x) + y"
      ]
     },
     "execution_count": 7,
     "metadata": {},
     "output_type": "execute_result"
    }
   ],
   "source": [
    "from sympy import conjugate, I\n",
    "conjugate(x)*x+y"
   ]
  },
  {
   "cell_type": "markdown",
   "metadata": {},
   "source": [
    "3. matrices"
   ]
  },
  {
   "cell_type": "code",
   "execution_count": 17,
   "metadata": {},
   "outputs": [
    {
     "data": {
      "text/plain": [
       "(Matrix([\n",
       " [1, 0, 0],\n",
       " [0, 1, 0],\n",
       " [0, 0, 1]]),\n",
       " (0, 1, 2))"
      ]
     },
     "execution_count": 17,
     "metadata": {},
     "output_type": "execute_result"
    }
   ],
   "source": [
    "from sympy import Matrix\n",
    "A = Matrix([[x, y, z], [-x, 0, 0], [0, a, b]])\n",
    "B = Matrix([[-y, 0, b], [y, b, 0], [x, -z, b]])\n",
    "C=A*B\n",
    "# C.eigenvals()\n",
    "C.rref()\n",
    "# C.diagonalize()"
   ]
  },
  {
   "cell_type": "markdown",
   "metadata": {},
   "source": [
    "4. inner product"
   ]
  },
  {
   "cell_type": "code",
   "execution_count": 19,
   "metadata": {},
   "outputs": [],
   "source": [
    "from sympy.physics.quantum.dagger import Dagger"
   ]
  },
  {
   "cell_type": "code",
   "execution_count": 23,
   "metadata": {},
   "outputs": [
    {
     "data": {
      "text/latex": [
       "$\\displaystyle \\left[\\begin{matrix}- x y + x z + y^{2} & b y - z^{2} & b x + b z\\\\x y & 0 & - b x\\\\a y + b x & a b - b z & b^{2}\\end{matrix}\\right]$"
      ],
      "text/plain": [
       "Matrix([\n",
       "[-x*y + x*z + y**2, b*y - z**2, b*x + b*z],\n",
       "[              x*y,          0,      -b*x],\n",
       "[        a*y + b*x,  a*b - b*z,      b**2]])"
      ]
     },
     "execution_count": 23,
     "metadata": {},
     "output_type": "execute_result"
    }
   ],
   "source": [
    "C"
   ]
  },
  {
   "cell_type": "code",
   "execution_count": 25,
   "metadata": {},
   "outputs": [
    {
     "data": {
      "text/latex": [
       "$\\displaystyle \\left[\\begin{matrix}- \\overline{x} \\overline{y} + \\overline{x} \\overline{z} + \\overline{y}^{2} & \\overline{x} \\overline{y} & \\overline{a} \\overline{y} + \\overline{b} \\overline{x}\\\\\\overline{b} \\overline{y} - \\overline{z}^{2} & 0 & \\overline{a} \\overline{b} - \\overline{b} \\overline{z}\\\\\\overline{b} \\overline{x} + \\overline{b} \\overline{z} & - \\overline{b} \\overline{x} & \\overline{b}^{2}\\end{matrix}\\right]$"
      ],
      "text/plain": [
       "Matrix([\n",
       "[-conjugate(x)*conjugate(y) + conjugate(x)*conjugate(z) + conjugate(y)**2,  conjugate(x)*conjugate(y), conjugate(a)*conjugate(y) + conjugate(b)*conjugate(x)],\n",
       "[                             conjugate(b)*conjugate(y) - conjugate(z)**2,                          0, conjugate(a)*conjugate(b) - conjugate(b)*conjugate(z)],\n",
       "[                   conjugate(b)*conjugate(x) + conjugate(b)*conjugate(z), -conjugate(b)*conjugate(x),                                       conjugate(b)**2]])"
      ]
     },
     "execution_count": 25,
     "metadata": {},
     "output_type": "execute_result"
    }
   ],
   "source": [
    "D=Dagger(C)\n",
    "D"
   ]
  },
  {
   "cell_type": "code",
   "execution_count": 26,
   "metadata": {},
   "outputs": [
    {
     "data": {
      "text/latex": [
       "$\\displaystyle \\left[\\begin{matrix}\\left(b x + b z\\right) \\left(\\overline{b} \\overline{x} + \\overline{b} \\overline{z}\\right) + \\left(b y - z^{2}\\right) \\left(\\overline{b} \\overline{y} - \\overline{z}^{2}\\right) + \\left(- x y + x z + y^{2}\\right) \\left(- \\overline{x} \\overline{y} + \\overline{x} \\overline{z} + \\overline{y}^{2}\\right) & - \\left(b x + b z\\right) \\overline{b} \\overline{x} + \\left(- x y + x z + y^{2}\\right) \\overline{x} \\overline{y} & \\left(b x + b z\\right) \\overline{b}^{2} + \\left(b y - z^{2}\\right) \\left(\\overline{a} \\overline{b} - \\overline{b} \\overline{z}\\right) + \\left(\\overline{a} \\overline{y} + \\overline{b} \\overline{x}\\right) \\left(- x y + x z + y^{2}\\right)\\\\- b x \\left(\\overline{b} \\overline{x} + \\overline{b} \\overline{z}\\right) + x y \\left(- \\overline{x} \\overline{y} + \\overline{x} \\overline{z} + \\overline{y}^{2}\\right) & b x \\overline{b} \\overline{x} + x y \\overline{x} \\overline{y} & - b x \\overline{b}^{2} + x y \\left(\\overline{a} \\overline{y} + \\overline{b} \\overline{x}\\right)\\\\b^{2} \\left(\\overline{b} \\overline{x} + \\overline{b} \\overline{z}\\right) + \\left(a b - b z\\right) \\left(\\overline{b} \\overline{y} - \\overline{z}^{2}\\right) + \\left(a y + b x\\right) \\left(- \\overline{x} \\overline{y} + \\overline{x} \\overline{z} + \\overline{y}^{2}\\right) & - b^{2} \\overline{b} \\overline{x} + \\left(a y + b x\\right) \\overline{x} \\overline{y} & b^{2} \\overline{b}^{2} + \\left(a b - b z\\right) \\left(\\overline{a} \\overline{b} - \\overline{b} \\overline{z}\\right) + \\left(a y + b x\\right) \\left(\\overline{a} \\overline{y} + \\overline{b} \\overline{x}\\right)\\end{matrix}\\right]$"
      ],
      "text/plain": [
       "Matrix([\n",
       "[(b*x + b*z)*(conjugate(b)*conjugate(x) + conjugate(b)*conjugate(z)) + (b*y - z**2)*(conjugate(b)*conjugate(y) - conjugate(z)**2) + (-x*y + x*z + y**2)*(-conjugate(x)*conjugate(y) + conjugate(x)*conjugate(z) + conjugate(y)**2), -(b*x + b*z)*conjugate(b)*conjugate(x) + (-x*y + x*z + y**2)*conjugate(x)*conjugate(y), (b*x + b*z)*conjugate(b)**2 + (b*y - z**2)*(conjugate(a)*conjugate(b) - conjugate(b)*conjugate(z)) + (conjugate(a)*conjugate(y) + conjugate(b)*conjugate(x))*(-x*y + x*z + y**2)],\n",
       "[                                                                                    -b*x*(conjugate(b)*conjugate(x) + conjugate(b)*conjugate(z)) + x*y*(-conjugate(x)*conjugate(y) + conjugate(x)*conjugate(z) + conjugate(y)**2),                          b*x*conjugate(b)*conjugate(x) + x*y*conjugate(x)*conjugate(y),                                                                                               -b*x*conjugate(b)**2 + x*y*(conjugate(a)*conjugate(y) + conjugate(b)*conjugate(x))],\n",
       "[                b**2*(conjugate(b)*conjugate(x) + conjugate(b)*conjugate(z)) + (a*b - b*z)*(conjugate(b)*conjugate(y) - conjugate(z)**2) + (a*y + b*x)*(-conjugate(x)*conjugate(y) + conjugate(x)*conjugate(z) + conjugate(y)**2),                -b**2*conjugate(b)*conjugate(x) + (a*y + b*x)*conjugate(x)*conjugate(y),                 b**2*conjugate(b)**2 + (a*b - b*z)*(conjugate(a)*conjugate(b) - conjugate(b)*conjugate(z)) + (a*y + b*x)*(conjugate(a)*conjugate(y) + conjugate(b)*conjugate(x))]])"
      ]
     },
     "execution_count": 26,
     "metadata": {},
     "output_type": "execute_result"
    }
   ],
   "source": [
    "C*D"
   ]
  },
  {
   "cell_type": "code",
   "execution_count": 57,
   "metadata": {},
   "outputs": [
    {
     "data": {
      "text/latex": [
       "$\\displaystyle \\left[\\begin{matrix}x\\\\- y\\\\0\\\\b\\end{matrix}\\right]$"
      ],
      "text/plain": [
       "Matrix([\n",
       "[ x],\n",
       "[-y],\n",
       "[ 0],\n",
       "[ b]])"
      ]
     },
     "execution_count": 57,
     "metadata": {},
     "output_type": "execute_result"
    }
   ],
   "source": [
    "v1 =Matrix([x, -y, 0, b])\n",
    "v1"
   ]
  },
  {
   "cell_type": "code",
   "execution_count": 62,
   "metadata": {},
   "outputs": [
    {
     "data": {
      "text/latex": [
       "$\\displaystyle \\left[\\begin{matrix}- x\\\\a\\\\b\\\\y\\end{matrix}\\right]$"
      ],
      "text/plain": [
       "Matrix([\n",
       "[-x],\n",
       "[ a],\n",
       "[ b],\n",
       "[ y]])"
      ]
     },
     "execution_count": 62,
     "metadata": {},
     "output_type": "execute_result"
    }
   ],
   "source": [
    "v2=Matrix([-x, a, b, y])\n",
    "v2"
   ]
  },
  {
   "cell_type": "code",
   "execution_count": 63,
   "metadata": {},
   "outputs": [
    {
     "data": {
      "text/latex": [
       "$\\displaystyle \\left[\\begin{matrix}a\\\\0\\\\0\\\\- a\\end{matrix}\\right]$"
      ],
      "text/plain": [
       "Matrix([\n",
       "[ a],\n",
       "[ 0],\n",
       "[ 0],\n",
       "[-a]])"
      ]
     },
     "execution_count": 63,
     "metadata": {},
     "output_type": "execute_result"
    }
   ],
   "source": [
    "v3 = Matrix([a, 0, 0, -a])\n",
    "v3"
   ]
  },
  {
   "cell_type": "code",
   "execution_count": 68,
   "metadata": {},
   "outputs": [
    {
     "data": {
      "text/latex": [
       "$\\displaystyle \\left[\\begin{matrix}x\\\\x\\\\a\\\\0\\end{matrix}\\right]$"
      ],
      "text/plain": [
       "Matrix([\n",
       "[x],\n",
       "[x],\n",
       "[a],\n",
       "[0]])"
      ]
     },
     "execution_count": 68,
     "metadata": {},
     "output_type": "execute_result"
    }
   ],
   "source": [
    "v4 = Matrix([x, x, a, 0])\n",
    "v4"
   ]
  },
  {
   "cell_type": "code",
   "execution_count": 69,
   "metadata": {},
   "outputs": [
    {
     "data": {
      "text/latex": [
       "$\\displaystyle \\left[\\begin{matrix}b\\\\0\\\\-1\\\\0\\end{matrix}\\right]$"
      ],
      "text/plain": [
       "Matrix([\n",
       "[ b],\n",
       "[ 0],\n",
       "[-1],\n",
       "[ 0]])"
      ]
     },
     "execution_count": 69,
     "metadata": {},
     "output_type": "execute_result"
    }
   ],
   "source": [
    "v5 = Matrix([b, 0, -1, 0])\n",
    "v5"
   ]
  },
  {
   "cell_type": "code",
   "execution_count": 64,
   "metadata": {},
   "outputs": [
    {
     "data": {
      "text/latex": [
       "$\\displaystyle \\left[\\begin{matrix}b \\overline{y} - x \\overline{x} - y \\overline{a}\\end{matrix}\\right]$"
      ],
      "text/plain": [
       "Matrix([[b*conjugate(y) - x*conjugate(x) - y*conjugate(a)]])"
      ]
     },
     "execution_count": 64,
     "metadata": {},
     "output_type": "execute_result"
    }
   ],
   "source": [
    "i1 = Dagger(v2)*v1\n",
    "i1"
   ]
  },
  {
   "cell_type": "code",
   "execution_count": 65,
   "metadata": {},
   "outputs": [
    {
     "data": {
      "text/latex": [
       "$\\displaystyle \\left[\\begin{matrix}- b \\overline{a} + x \\overline{a}\\end{matrix}\\right]$"
      ],
      "text/plain": [
       "Matrix([[-b*conjugate(a) + x*conjugate(a)]])"
      ]
     },
     "execution_count": 65,
     "metadata": {},
     "output_type": "execute_result"
    }
   ],
   "source": [
    "i2=Dagger(v3)*v1\n",
    "i2"
   ]
  },
  {
   "cell_type": "code",
   "execution_count": 70,
   "metadata": {},
   "outputs": [
    {
     "data": {
      "text/latex": [
       "$\\displaystyle \\left[\\begin{matrix}a \\overline{x} + b \\overline{a} - x \\overline{x}\\end{matrix}\\right]$"
      ],
      "text/plain": [
       "Matrix([[a*conjugate(x) + b*conjugate(a) - x*conjugate(x)]])"
      ]
     },
     "execution_count": 70,
     "metadata": {},
     "output_type": "execute_result"
    }
   ],
   "source": [
    "i3=Dagger(v4)*v2\n",
    "i3"
   ]
  },
  {
   "cell_type": "code",
   "execution_count": 73,
   "metadata": {},
   "outputs": [
    {
     "data": {
      "text/latex": [
       "$\\displaystyle \\left[\\begin{matrix}a \\overline{b} + x \\overline{a} - x \\overline{x}\\end{matrix}\\right]$"
      ],
      "text/plain": [
       "Matrix([[a*conjugate(b) + x*conjugate(a) - x*conjugate(x)]])"
      ]
     },
     "execution_count": 73,
     "metadata": {},
     "output_type": "execute_result"
    }
   ],
   "source": [
    "i4=Dagger(v2)*v4\n",
    "i4"
   ]
  },
  {
   "cell_type": "code",
   "execution_count": 86,
   "metadata": {},
   "outputs": [],
   "source": [
    "sys = []\n",
    "sys.append(i1)\n",
    "sys.append(i2)\n",
    "sys.append(i3)\n",
    "sys.append(i4)"
   ]
  },
  {
   "cell_type": "code",
   "execution_count": 87,
   "metadata": {},
   "outputs": [],
   "source": [
    "sys.append(conjugate(x)*x+conjugate(y)*y+conjugate(a)*a+conjugate(b)*b-1) #normalization\n",
    "# sys = tuple(sys)"
   ]
  },
  {
   "cell_type": "code",
   "execution_count": 88,
   "metadata": {},
   "outputs": [
    {
     "data": {
      "text/plain": [
       "[{b: 0, x: 0, y: 0, a: -1},\n",
       " {a: 0, x: 0, y: 0, b: -1},\n",
       " {b: 0, x: 0, a: 0, y: -1},\n",
       " {a: 0, x: 0, b: 0, y: -1},\n",
       " {b: 0, x: 0, a: 0, y: 1},\n",
       " {a: 0, x: 0, b: 0, y: 1},\n",
       " {a: 0, x: 0, y: 0, b: 1},\n",
       " {b: 0, x: 0, y: 0, a: 1}]"
      ]
     },
     "execution_count": 88,
     "metadata": {},
     "output_type": "execute_result"
    }
   ],
   "source": [
    "# sol = solve((i1, i2), dict=True)\n",
    "sol = solve(sys, dict=True)\n",
    "sol"
   ]
  },
  {
   "cell_type": "markdown",
   "metadata": {},
   "source": [
    "5. creating multiple symbols through loop"
   ]
  },
  {
   "cell_type": "code",
   "execution_count": 102,
   "metadata": {},
   "outputs": [],
   "source": [
    "V={}\n",
    "for i in range(5):\n",
    "    V['v'+str(i)]=Symbol('v'+str(i))"
   ]
  },
  {
   "cell_type": "code",
   "execution_count": 105,
   "metadata": {},
   "outputs": [
    {
     "data": {
      "text/latex": [
       "$\\displaystyle v_{0}$"
      ],
      "text/plain": [
       "v0"
      ]
     },
     "execution_count": 105,
     "metadata": {},
     "output_type": "execute_result"
    }
   ],
   "source": [
    "V['v0']"
   ]
  },
  {
   "cell_type": "markdown",
   "metadata": {},
   "source": [
    "6. example bell state + measurement"
   ]
  },
  {
   "cell_type": "code",
   "execution_count": 130,
   "metadata": {},
   "outputs": [
    {
     "data": {
      "text/plain": [
       "[Matrix([\n",
       " [1],\n",
       " [1],\n",
       " [0],\n",
       " [0]]),\n",
       " Matrix([\n",
       " [0],\n",
       " [0],\n",
       " [1],\n",
       " [1]])]"
      ]
     },
     "execution_count": 130,
     "metadata": {},
     "output_type": "execute_result"
    }
   ],
   "source": [
    "# represent bell states as tuples of number bases\n",
    "phip = [Matrix([1,1,0,0]),Matrix([0,0,1,1])]\n",
    "phip"
   ]
  },
  {
   "cell_type": "code",
   "execution_count": 131,
   "metadata": {},
   "outputs": [],
   "source": [
    "# phip[0][1]-=1"
   ]
  },
  {
   "cell_type": "code",
   "execution_count": 136,
   "metadata": {},
   "outputs": [],
   "source": [
    "# annihilation operator (have dictionary)\n",
    "# measurements={} # dictionary to hold\n",
    "# create copy of bs to annihilate on\n",
    "phip_c = phip\n",
    "if phip[0][0]==1:\n",
    "    phip_c[0][0]-=1\n",
    "if phip[1][0] ==1:\n",
    "    phip_c[1][0]-=1\n",
    "\n"
   ]
  },
  {
   "cell_type": "code",
   "execution_count": 139,
   "metadata": {},
   "outputs": [
    {
     "data": {
      "text/plain": [
       "[Matrix([\n",
       " [0],\n",
       " [1],\n",
       " [0],\n",
       " [0]]),\n",
       " Matrix([\n",
       " [0],\n",
       " [0],\n",
       " [1],\n",
       " [1]])]"
      ]
     },
     "execution_count": 139,
     "metadata": {},
     "output_type": "execute_result"
    }
   ],
   "source": [
    "phip_c"
   ]
  },
  {
   "cell_type": "code",
   "execution_count": 144,
   "metadata": {},
   "outputs": [],
   "source": [
    "h=Symbol('h', nonzero=True)\n",
    "r=Symbol('r')"
   ]
  },
  {
   "cell_type": "code",
   "execution_count": 148,
   "metadata": {},
   "outputs": [
    {
     "data": {
      "text/plain": [
       "[]"
      ]
     },
     "execution_count": 148,
     "metadata": {},
     "output_type": "execute_result"
    }
   ],
   "source": [
    "solve((h*x**2+r*x-x**3, 2*h*x+a-3*x**2), ())"
   ]
  },
  {
   "cell_type": "code",
   "execution_count": 140,
   "metadata": {},
   "outputs": [
    {
     "ename": "TypeError",
     "evalue": "can't multiply sequence by non-int of type 'Symbol'",
     "output_type": "error",
     "traceback": [
      "\u001b[0;31m---------------------------------------------------------------------------\u001b[0m",
      "\u001b[0;31mTypeError\u001b[0m                                 Traceback (most recent call last)",
      "\u001b[0;32m/var/folders/4q/td1j5kb117s9mnpgltqnnvqc0000gn/T/ipykernel_44601/746913019.py\u001b[0m in \u001b[0;36m<module>\u001b[0;34m\u001b[0m\n\u001b[0;32m----> 1\u001b[0;31m \u001b[0mV\u001b[0m\u001b[0;34m[\u001b[0m\u001b[0;34m'v0'\u001b[0m\u001b[0;34m]\u001b[0m\u001b[0;34m*\u001b[0m\u001b[0;34m(\u001b[0m\u001b[0mphip\u001b[0m\u001b[0;34m[\u001b[0m\u001b[0;36m0\u001b[0m\u001b[0;34m]\u001b[0m\u001b[0;34m[\u001b[0m\u001b[0;36m0\u001b[0m\u001b[0;34m]\u001b[0m\u001b[0;34m*\u001b[0m\u001b[0mphip_c\u001b[0m\u001b[0;34m+\u001b[0m \u001b[0mphip\u001b[0m\u001b[0;34m[\u001b[0m\u001b[0;36m1\u001b[0m\u001b[0;34m]\u001b[0m\u001b[0;34m[\u001b[0m\u001b[0;36m0\u001b[0m\u001b[0;34m]\u001b[0m\u001b[0;34m*\u001b[0m\u001b[0mphip_c\u001b[0m\u001b[0;34m)\u001b[0m\u001b[0;34m\u001b[0m\u001b[0;34m\u001b[0m\u001b[0m\n\u001b[0m",
      "\u001b[0;31mTypeError\u001b[0m: can't multiply sequence by non-int of type 'Symbol'"
     ]
    }
   ],
   "source": [
    "V['v0']*(phip[0][0]*phip_c+ phip[1][0]*phip_c)"
   ]
  },
  {
   "cell_type": "code",
   "execution_count": 80,
   "metadata": {},
   "outputs": [
    {
     "data": {
      "text/plain": [
       "6"
      ]
     },
     "execution_count": 80,
     "metadata": {},
     "output_type": "execute_result"
    }
   ],
   "source": [
    "from math import comb\n",
    "comb(4,2)"
   ]
  },
  {
   "cell_type": "code",
   "execution_count": null,
   "metadata": {},
   "outputs": [],
   "source": []
  }
 ],
 "metadata": {
  "kernelspec": {
   "display_name": "Python 3.9.7 ('base')",
   "language": "python",
   "name": "python3"
  },
  "language_info": {
   "codemirror_mode": {
    "name": "ipython",
    "version": 3
   },
   "file_extension": ".py",
   "mimetype": "text/x-python",
   "name": "python",
   "nbconvert_exporter": "python",
   "pygments_lexer": "ipython3",
   "version": "3.9.7"
  },
  "orig_nbformat": 4,
  "vscode": {
   "interpreter": {
    "hash": "40d3a090f54c6569ab1632332b64b2c03c39dcf918b08424e98f38b5ae0af88f"
   }
  }
 },
 "nbformat": 4,
 "nbformat_minor": 2
}
