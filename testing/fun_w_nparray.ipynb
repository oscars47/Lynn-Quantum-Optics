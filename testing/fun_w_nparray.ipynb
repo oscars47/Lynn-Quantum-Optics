{
 "cells": [
  {
   "cell_type": "markdown",
   "metadata": {},
   "source": [
    "## File to play around with properties of Np arrays"
   ]
  },
  {
   "cell_type": "code",
   "execution_count": 1,
   "metadata": {},
   "outputs": [],
   "source": [
    "import numpy as np"
   ]
  },
  {
   "cell_type": "code",
   "execution_count": 38,
   "metadata": {},
   "outputs": [
    {
     "name": "stdout",
     "output_type": "stream",
     "text": [
      "[[0.]\n",
      " [1.]\n",
      " [0.]\n",
      " [0.]]\n",
      "[[0.]\n",
      " [3.]\n",
      " [0.]\n",
      " [0.]]\n",
      "---\n",
      "3.0\n"
     ]
    }
   ],
   "source": [
    "x=np.zeros((4, 1))\n",
    "y=np.zeros((4, 1))\n",
    "# print(x)\n",
    "# print(y)\n",
    "a=1\n",
    "b=3\n",
    "# x=np.insert(x, 3, a)\n",
    "x[1]=a\n",
    "y[1]=b\n",
    "print(x)\n",
    "print(y)\n",
    "print('---')\n",
    "ans = x.T@y\n",
    "print(ans[0][0])"
   ]
  },
  {
   "cell_type": "code",
   "execution_count": null,
   "metadata": {},
   "outputs": [],
   "source": []
  }
 ],
 "metadata": {
  "kernelspec": {
   "display_name": "Python 3.9.7 ('base')",
   "language": "python",
   "name": "python3"
  },
  "language_info": {
   "codemirror_mode": {
    "name": "ipython",
    "version": 3
   },
   "file_extension": ".py",
   "mimetype": "text/x-python",
   "name": "python",
   "nbconvert_exporter": "python",
   "pygments_lexer": "ipython3",
   "version": "3.9.7"
  },
  "orig_nbformat": 4,
  "vscode": {
   "interpreter": {
    "hash": "40d3a090f54c6569ab1632332b64b2c03c39dcf918b08424e98f38b5ae0af88f"
   }
  }
 },
 "nbformat": 4,
 "nbformat_minor": 2
}
